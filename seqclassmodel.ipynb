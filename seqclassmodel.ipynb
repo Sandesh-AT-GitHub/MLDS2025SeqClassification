{
  "cells": [
    {
      "cell_type": "markdown",
      "metadata": {
        "id": "view-in-github",
        "colab_type": "text"
      },
      "source": [
        "<a href=\"https://colab.research.google.com/github/Sandesh-AT-GitHub/MLDS2025SeqClassification/blob/main/seqclassmodel.ipynb\" target=\"_parent\"><img src=\"https://colab.research.google.com/assets/colab-badge.svg\" alt=\"Open In Colab\"/></a>"
      ]
    },
    {
      "cell_type": "code",
      "execution_count": 1,
      "metadata": {
        "colab": {
          "base_uri": "https://localhost:8080/"
        },
        "id": "k-2qcrXadPEs",
        "outputId": "167496ba-4aa1-40af-a6ec-e4a9a540e0e2"
      },
      "outputs": [
        {
          "output_type": "stream",
          "name": "stdout",
          "text": [
            "Mounted at /content/drive\n"
          ]
        }
      ],
      "source": [
        "from google.colab import drive\n",
        "drive.mount('/content/drive')"
      ]
    },
    {
      "cell_type": "code",
      "execution_count": 2,
      "metadata": {
        "id": "TPM5RbUcdp94"
      },
      "outputs": [],
      "source": [
        "import pandas as pd"
      ]
    },
    {
      "cell_type": "code",
      "execution_count": 3,
      "metadata": {
        "id": "Fi8w3mtWees-"
      },
      "outputs": [],
      "source": [
        "df = pd.read_csv('/content/drive/MyDrive/MachineHack_Hackathon/MLDS2025SeqClassification/Dataset/Train.csv')\n",
        "# testDf = df.head()"
      ]
    },
    {
      "cell_type": "code",
      "execution_count": null,
      "metadata": {
        "colab": {
          "base_uri": "https://localhost:8080/"
        },
        "id": "QLzjBp-ZY5WN",
        "outputId": "0670e039-f0d9-4433-922d-cb15e84ee8f9"
      },
      "outputs": [
        {
          "name": "stdout",
          "output_type": "stream",
          "text": [
            "             genre  label\n",
            "271674     country      0\n",
            "35505   electronic      1\n",
            "27934         folk      2\n",
            "271671     hip-hop      3\n",
            "567          indie      4\n",
            "65746         jazz      5\n",
            "100          metal      6\n",
            "437            pop      7\n",
            "9523           r&b      8\n",
            "0             rock      9\n"
          ]
        }
      ],
      "source": [
        "print(df[[\"genre\",\"label\"]].drop_duplicates(subset=['genre','label']).sort_values(by = 'label'))"
      ]
    },
    {
      "cell_type": "code",
      "execution_count": 4,
      "metadata": {
        "colab": {
          "base_uri": "https://localhost:8080/",
          "height": 272
        },
        "id": "BVnZrcfRcyyw",
        "outputId": "08119998-bc40-42d0-afc5-ce65cc3e07a9"
      },
      "outputs": [
        {
          "output_type": "execute_result",
          "data": {
            "text/plain": [
              "Unnamed: 0      False\n",
              "text             True\n",
              "genre           False\n",
              "label           False\n",
              "label_model     False\n",
              "text_cleaned     True\n",
              "dtype: bool"
            ],
            "text/html": [
              "<div>\n",
              "<style scoped>\n",
              "    .dataframe tbody tr th:only-of-type {\n",
              "        vertical-align: middle;\n",
              "    }\n",
              "\n",
              "    .dataframe tbody tr th {\n",
              "        vertical-align: top;\n",
              "    }\n",
              "\n",
              "    .dataframe thead th {\n",
              "        text-align: right;\n",
              "    }\n",
              "</style>\n",
              "<table border=\"1\" class=\"dataframe\">\n",
              "  <thead>\n",
              "    <tr style=\"text-align: right;\">\n",
              "      <th></th>\n",
              "      <th>0</th>\n",
              "    </tr>\n",
              "  </thead>\n",
              "  <tbody>\n",
              "    <tr>\n",
              "      <th>Unnamed: 0</th>\n",
              "      <td>False</td>\n",
              "    </tr>\n",
              "    <tr>\n",
              "      <th>text</th>\n",
              "      <td>True</td>\n",
              "    </tr>\n",
              "    <tr>\n",
              "      <th>genre</th>\n",
              "      <td>False</td>\n",
              "    </tr>\n",
              "    <tr>\n",
              "      <th>label</th>\n",
              "      <td>False</td>\n",
              "    </tr>\n",
              "    <tr>\n",
              "      <th>label_model</th>\n",
              "      <td>False</td>\n",
              "    </tr>\n",
              "    <tr>\n",
              "      <th>text_cleaned</th>\n",
              "      <td>True</td>\n",
              "    </tr>\n",
              "  </tbody>\n",
              "</table>\n",
              "</div><br><label><b>dtype:</b> bool</label>"
            ]
          },
          "metadata": {},
          "execution_count": 4
        }
      ],
      "source": [
        "# checking each field either having empty values\n",
        "df.isnull().any()"
      ]
    },
    {
      "cell_type": "code",
      "execution_count": 4,
      "metadata": {
        "colab": {
          "base_uri": "https://localhost:8080/"
        },
        "id": "pabZYWP5yQEF",
        "outputId": "4d9c77e1-05e9-4a4c-fd88-1a2454b3d035"
      },
      "outputs": [
        {
          "output_type": "execute_result",
          "data": {
            "text/plain": [
              "290147"
            ]
          },
          "metadata": {},
          "execution_count": 4
        }
      ],
      "source": [
        "df_rmEmpty = df.dropna()\n",
        "df_rmEmpty.shape[0]"
      ]
    },
    {
      "cell_type": "code",
      "source": [
        "df_rmEmpty.sample(10)"
      ],
      "metadata": {
        "id": "dmb6Cqm3zYaD",
        "outputId": "b14cffc4-cbce-41c3-9599-a8755f9fb34d",
        "colab": {
          "base_uri": "https://localhost:8080/",
          "height": 2253
        }
      },
      "execution_count": 5,
      "outputs": [
        {
          "output_type": "execute_result",
          "data": {
            "text/plain": [
              "        Unnamed: 0                                               text genre  \\\n",
              "242827      242827  I see the questions in your eyes\\nI know what'...  rock   \n",
              "144334      144334  Maybe September\\nI love again\\nMaybe a rainbow...  jazz   \n",
              "81004        81004  Yeah man what's going on man\\nit's really real...   pop   \n",
              "129738      129738  Você Sorriu me iludiu,\\nMeu peito logo se abri...   pop   \n",
              "218888      218888  If you want my lovin'\\nIf you really do \\nDon'...   pop   \n",
              "218012      218012  It's not the first time\\nThat I've watched you...  rock   \n",
              "178907      178907  Black lines call out from his face\\nOh his hea...  rock   \n",
              "129767      129767  Deixa eu te ver só pra saber como você está\\nE...   pop   \n",
              "263090      263090  let you leave that day\\nlet you walk on by\\nbr...   pop   \n",
              "224130      224130  Do you always trust your first initial feeling...  rock   \n",
              "\n",
              "        label label_model                                       text_cleaned  \n",
              "242827      9     LABEL_9  I see the questions in your eyes\\nI know what'...  \n",
              "144334      5     LABEL_5  Maybe September\\nI love again\\nMaybe a rainbow...  \n",
              "81004       7     LABEL_7  Yeah man what's going on man\\nit's really real...  \n",
              "129738      7     LABEL_7  Você Sorriu me iludiu,\\nMeu peito logo se abri...  \n",
              "218888      7     LABEL_7  If you want my lovin'\\nIf you really do \\nDon'...  \n",
              "218012      9     LABEL_9  It's not the first time\\nThat I've watched you...  \n",
              "178907      9     LABEL_9  Black lines call out from his face\\nOh his hea...  \n",
              "129767      7     LABEL_7  Deixa eu te ver só pra saber como você está\\nE...  \n",
              "263090      7     LABEL_7  let you leave that day\\nlet you walk on by\\nbr...  \n",
              "224130      9     LABEL_9  Do you always trust your first initial feeling...  "
            ],
            "text/html": [
              "\n",
              "  <div id=\"df-66907fc9-674a-4c24-876a-f092633bf011\" class=\"colab-df-container\">\n",
              "    <div>\n",
              "<style scoped>\n",
              "    .dataframe tbody tr th:only-of-type {\n",
              "        vertical-align: middle;\n",
              "    }\n",
              "\n",
              "    .dataframe tbody tr th {\n",
              "        vertical-align: top;\n",
              "    }\n",
              "\n",
              "    .dataframe thead th {\n",
              "        text-align: right;\n",
              "    }\n",
              "</style>\n",
              "<table border=\"1\" class=\"dataframe\">\n",
              "  <thead>\n",
              "    <tr style=\"text-align: right;\">\n",
              "      <th></th>\n",
              "      <th>Unnamed: 0</th>\n",
              "      <th>text</th>\n",
              "      <th>genre</th>\n",
              "      <th>label</th>\n",
              "      <th>label_model</th>\n",
              "      <th>text_cleaned</th>\n",
              "    </tr>\n",
              "  </thead>\n",
              "  <tbody>\n",
              "    <tr>\n",
              "      <th>242827</th>\n",
              "      <td>242827</td>\n",
              "      <td>I see the questions in your eyes\\nI know what'...</td>\n",
              "      <td>rock</td>\n",
              "      <td>9</td>\n",
              "      <td>LABEL_9</td>\n",
              "      <td>I see the questions in your eyes\\nI know what'...</td>\n",
              "    </tr>\n",
              "    <tr>\n",
              "      <th>144334</th>\n",
              "      <td>144334</td>\n",
              "      <td>Maybe September\\nI love again\\nMaybe a rainbow...</td>\n",
              "      <td>jazz</td>\n",
              "      <td>5</td>\n",
              "      <td>LABEL_5</td>\n",
              "      <td>Maybe September\\nI love again\\nMaybe a rainbow...</td>\n",
              "    </tr>\n",
              "    <tr>\n",
              "      <th>81004</th>\n",
              "      <td>81004</td>\n",
              "      <td>Yeah man what's going on man\\nit's really real...</td>\n",
              "      <td>pop</td>\n",
              "      <td>7</td>\n",
              "      <td>LABEL_7</td>\n",
              "      <td>Yeah man what's going on man\\nit's really real...</td>\n",
              "    </tr>\n",
              "    <tr>\n",
              "      <th>129738</th>\n",
              "      <td>129738</td>\n",
              "      <td>Você Sorriu me iludiu,\\nMeu peito logo se abri...</td>\n",
              "      <td>pop</td>\n",
              "      <td>7</td>\n",
              "      <td>LABEL_7</td>\n",
              "      <td>Você Sorriu me iludiu,\\nMeu peito logo se abri...</td>\n",
              "    </tr>\n",
              "    <tr>\n",
              "      <th>218888</th>\n",
              "      <td>218888</td>\n",
              "      <td>If you want my lovin'\\nIf you really do \\nDon'...</td>\n",
              "      <td>pop</td>\n",
              "      <td>7</td>\n",
              "      <td>LABEL_7</td>\n",
              "      <td>If you want my lovin'\\nIf you really do \\nDon'...</td>\n",
              "    </tr>\n",
              "    <tr>\n",
              "      <th>218012</th>\n",
              "      <td>218012</td>\n",
              "      <td>It's not the first time\\nThat I've watched you...</td>\n",
              "      <td>rock</td>\n",
              "      <td>9</td>\n",
              "      <td>LABEL_9</td>\n",
              "      <td>It's not the first time\\nThat I've watched you...</td>\n",
              "    </tr>\n",
              "    <tr>\n",
              "      <th>178907</th>\n",
              "      <td>178907</td>\n",
              "      <td>Black lines call out from his face\\nOh his hea...</td>\n",
              "      <td>rock</td>\n",
              "      <td>9</td>\n",
              "      <td>LABEL_9</td>\n",
              "      <td>Black lines call out from his face\\nOh his hea...</td>\n",
              "    </tr>\n",
              "    <tr>\n",
              "      <th>129767</th>\n",
              "      <td>129767</td>\n",
              "      <td>Deixa eu te ver só pra saber como você está\\nE...</td>\n",
              "      <td>pop</td>\n",
              "      <td>7</td>\n",
              "      <td>LABEL_7</td>\n",
              "      <td>Deixa eu te ver só pra saber como você está\\nE...</td>\n",
              "    </tr>\n",
              "    <tr>\n",
              "      <th>263090</th>\n",
              "      <td>263090</td>\n",
              "      <td>let you leave that day\\nlet you walk on by\\nbr...</td>\n",
              "      <td>pop</td>\n",
              "      <td>7</td>\n",
              "      <td>LABEL_7</td>\n",
              "      <td>let you leave that day\\nlet you walk on by\\nbr...</td>\n",
              "    </tr>\n",
              "    <tr>\n",
              "      <th>224130</th>\n",
              "      <td>224130</td>\n",
              "      <td>Do you always trust your first initial feeling...</td>\n",
              "      <td>rock</td>\n",
              "      <td>9</td>\n",
              "      <td>LABEL_9</td>\n",
              "      <td>Do you always trust your first initial feeling...</td>\n",
              "    </tr>\n",
              "  </tbody>\n",
              "</table>\n",
              "</div>\n",
              "    <div class=\"colab-df-buttons\">\n",
              "\n",
              "  <div class=\"colab-df-container\">\n",
              "    <button class=\"colab-df-convert\" onclick=\"convertToInteractive('df-66907fc9-674a-4c24-876a-f092633bf011')\"\n",
              "            title=\"Convert this dataframe to an interactive table.\"\n",
              "            style=\"display:none;\">\n",
              "\n",
              "  <svg xmlns=\"http://www.w3.org/2000/svg\" height=\"24px\" viewBox=\"0 -960 960 960\">\n",
              "    <path d=\"M120-120v-720h720v720H120Zm60-500h600v-160H180v160Zm220 220h160v-160H400v160Zm0 220h160v-160H400v160ZM180-400h160v-160H180v160Zm440 0h160v-160H620v160ZM180-180h160v-160H180v160Zm440 0h160v-160H620v160Z\"/>\n",
              "  </svg>\n",
              "    </button>\n",
              "\n",
              "  <style>\n",
              "    .colab-df-container {\n",
              "      display:flex;\n",
              "      gap: 12px;\n",
              "    }\n",
              "\n",
              "    .colab-df-convert {\n",
              "      background-color: #E8F0FE;\n",
              "      border: none;\n",
              "      border-radius: 50%;\n",
              "      cursor: pointer;\n",
              "      display: none;\n",
              "      fill: #1967D2;\n",
              "      height: 32px;\n",
              "      padding: 0 0 0 0;\n",
              "      width: 32px;\n",
              "    }\n",
              "\n",
              "    .colab-df-convert:hover {\n",
              "      background-color: #E2EBFA;\n",
              "      box-shadow: 0px 1px 2px rgba(60, 64, 67, 0.3), 0px 1px 3px 1px rgba(60, 64, 67, 0.15);\n",
              "      fill: #174EA6;\n",
              "    }\n",
              "\n",
              "    .colab-df-buttons div {\n",
              "      margin-bottom: 4px;\n",
              "    }\n",
              "\n",
              "    [theme=dark] .colab-df-convert {\n",
              "      background-color: #3B4455;\n",
              "      fill: #D2E3FC;\n",
              "    }\n",
              "\n",
              "    [theme=dark] .colab-df-convert:hover {\n",
              "      background-color: #434B5C;\n",
              "      box-shadow: 0px 1px 3px 1px rgba(0, 0, 0, 0.15);\n",
              "      filter: drop-shadow(0px 1px 2px rgba(0, 0, 0, 0.3));\n",
              "      fill: #FFFFFF;\n",
              "    }\n",
              "  </style>\n",
              "\n",
              "    <script>\n",
              "      const buttonEl =\n",
              "        document.querySelector('#df-66907fc9-674a-4c24-876a-f092633bf011 button.colab-df-convert');\n",
              "      buttonEl.style.display =\n",
              "        google.colab.kernel.accessAllowed ? 'block' : 'none';\n",
              "\n",
              "      async function convertToInteractive(key) {\n",
              "        const element = document.querySelector('#df-66907fc9-674a-4c24-876a-f092633bf011');\n",
              "        const dataTable =\n",
              "          await google.colab.kernel.invokeFunction('convertToInteractive',\n",
              "                                                    [key], {});\n",
              "        if (!dataTable) return;\n",
              "\n",
              "        const docLinkHtml = 'Like what you see? Visit the ' +\n",
              "          '<a target=\"_blank\" href=https://colab.research.google.com/notebooks/data_table.ipynb>data table notebook</a>'\n",
              "          + ' to learn more about interactive tables.';\n",
              "        element.innerHTML = '';\n",
              "        dataTable['output_type'] = 'display_data';\n",
              "        await google.colab.output.renderOutput(dataTable, element);\n",
              "        const docLink = document.createElement('div');\n",
              "        docLink.innerHTML = docLinkHtml;\n",
              "        element.appendChild(docLink);\n",
              "      }\n",
              "    </script>\n",
              "  </div>\n",
              "\n",
              "\n",
              "<div id=\"df-376349ae-947f-4ef8-8bc7-2f9fd5feef78\">\n",
              "  <button class=\"colab-df-quickchart\" onclick=\"quickchart('df-376349ae-947f-4ef8-8bc7-2f9fd5feef78')\"\n",
              "            title=\"Suggest charts\"\n",
              "            style=\"display:none;\">\n",
              "\n",
              "<svg xmlns=\"http://www.w3.org/2000/svg\" height=\"24px\"viewBox=\"0 0 24 24\"\n",
              "     width=\"24px\">\n",
              "    <g>\n",
              "        <path d=\"M19 3H5c-1.1 0-2 .9-2 2v14c0 1.1.9 2 2 2h14c1.1 0 2-.9 2-2V5c0-1.1-.9-2-2-2zM9 17H7v-7h2v7zm4 0h-2V7h2v10zm4 0h-2v-4h2v4z\"/>\n",
              "    </g>\n",
              "</svg>\n",
              "  </button>\n",
              "\n",
              "<style>\n",
              "  .colab-df-quickchart {\n",
              "      --bg-color: #E8F0FE;\n",
              "      --fill-color: #1967D2;\n",
              "      --hover-bg-color: #E2EBFA;\n",
              "      --hover-fill-color: #174EA6;\n",
              "      --disabled-fill-color: #AAA;\n",
              "      --disabled-bg-color: #DDD;\n",
              "  }\n",
              "\n",
              "  [theme=dark] .colab-df-quickchart {\n",
              "      --bg-color: #3B4455;\n",
              "      --fill-color: #D2E3FC;\n",
              "      --hover-bg-color: #434B5C;\n",
              "      --hover-fill-color: #FFFFFF;\n",
              "      --disabled-bg-color: #3B4455;\n",
              "      --disabled-fill-color: #666;\n",
              "  }\n",
              "\n",
              "  .colab-df-quickchart {\n",
              "    background-color: var(--bg-color);\n",
              "    border: none;\n",
              "    border-radius: 50%;\n",
              "    cursor: pointer;\n",
              "    display: none;\n",
              "    fill: var(--fill-color);\n",
              "    height: 32px;\n",
              "    padding: 0;\n",
              "    width: 32px;\n",
              "  }\n",
              "\n",
              "  .colab-df-quickchart:hover {\n",
              "    background-color: var(--hover-bg-color);\n",
              "    box-shadow: 0 1px 2px rgba(60, 64, 67, 0.3), 0 1px 3px 1px rgba(60, 64, 67, 0.15);\n",
              "    fill: var(--button-hover-fill-color);\n",
              "  }\n",
              "\n",
              "  .colab-df-quickchart-complete:disabled,\n",
              "  .colab-df-quickchart-complete:disabled:hover {\n",
              "    background-color: var(--disabled-bg-color);\n",
              "    fill: var(--disabled-fill-color);\n",
              "    box-shadow: none;\n",
              "  }\n",
              "\n",
              "  .colab-df-spinner {\n",
              "    border: 2px solid var(--fill-color);\n",
              "    border-color: transparent;\n",
              "    border-bottom-color: var(--fill-color);\n",
              "    animation:\n",
              "      spin 1s steps(1) infinite;\n",
              "  }\n",
              "\n",
              "  @keyframes spin {\n",
              "    0% {\n",
              "      border-color: transparent;\n",
              "      border-bottom-color: var(--fill-color);\n",
              "      border-left-color: var(--fill-color);\n",
              "    }\n",
              "    20% {\n",
              "      border-color: transparent;\n",
              "      border-left-color: var(--fill-color);\n",
              "      border-top-color: var(--fill-color);\n",
              "    }\n",
              "    30% {\n",
              "      border-color: transparent;\n",
              "      border-left-color: var(--fill-color);\n",
              "      border-top-color: var(--fill-color);\n",
              "      border-right-color: var(--fill-color);\n",
              "    }\n",
              "    40% {\n",
              "      border-color: transparent;\n",
              "      border-right-color: var(--fill-color);\n",
              "      border-top-color: var(--fill-color);\n",
              "    }\n",
              "    60% {\n",
              "      border-color: transparent;\n",
              "      border-right-color: var(--fill-color);\n",
              "    }\n",
              "    80% {\n",
              "      border-color: transparent;\n",
              "      border-right-color: var(--fill-color);\n",
              "      border-bottom-color: var(--fill-color);\n",
              "    }\n",
              "    90% {\n",
              "      border-color: transparent;\n",
              "      border-bottom-color: var(--fill-color);\n",
              "    }\n",
              "  }\n",
              "</style>\n",
              "\n",
              "  <script>\n",
              "    async function quickchart(key) {\n",
              "      const quickchartButtonEl =\n",
              "        document.querySelector('#' + key + ' button');\n",
              "      quickchartButtonEl.disabled = true;  // To prevent multiple clicks.\n",
              "      quickchartButtonEl.classList.add('colab-df-spinner');\n",
              "      try {\n",
              "        const charts = await google.colab.kernel.invokeFunction(\n",
              "            'suggestCharts', [key], {});\n",
              "      } catch (error) {\n",
              "        console.error('Error during call to suggestCharts:', error);\n",
              "      }\n",
              "      quickchartButtonEl.classList.remove('colab-df-spinner');\n",
              "      quickchartButtonEl.classList.add('colab-df-quickchart-complete');\n",
              "    }\n",
              "    (() => {\n",
              "      let quickchartButtonEl =\n",
              "        document.querySelector('#df-376349ae-947f-4ef8-8bc7-2f9fd5feef78 button');\n",
              "      quickchartButtonEl.style.display =\n",
              "        google.colab.kernel.accessAllowed ? 'block' : 'none';\n",
              "    })();\n",
              "  </script>\n",
              "</div>\n",
              "\n",
              "    </div>\n",
              "  </div>\n"
            ],
            "application/vnd.google.colaboratory.intrinsic+json": {
              "type": "dataframe",
              "summary": "{\n  \"name\": \"df_rmEmpty\",\n  \"rows\": 10,\n  \"fields\": [\n    {\n      \"column\": \"Unnamed: 0\",\n      \"properties\": {\n        \"dtype\": \"number\",\n        \"std\": 59427,\n        \"min\": 81004,\n        \"max\": 263090,\n        \"num_unique_values\": 10,\n        \"samples\": [\n          263090,\n          144334,\n          218012\n        ],\n        \"semantic_type\": \"\",\n        \"description\": \"\"\n      }\n    },\n    {\n      \"column\": \"text\",\n      \"properties\": {\n        \"dtype\": \"string\",\n        \"num_unique_values\": 10,\n        \"samples\": [\n          \"let you leave that day\\nlet you walk on by\\nbreaking up would pay\\nbut you had far more pride\\nif i could give\\nwould god accept me\\ntried so hard to live\\noh why\\ndid you have to go out of my life\\nnever got the chance to say goodbye\\nyou flew away\\nyou flew away\\nyou left\\nyou flew away\\nthis heart it aches\\noh babe you flew away\\nand i cry\\ni pray each night to god\\ndid you fly away\\nhey\\nwoah baby\\nwhy\\nwhy\\ndid you fly away\\nhey\\nsat along the bay\\nwatched the stars in the sky\\nseems like yesterday\\nthat you were by my side\\nif i could give\\nwould you still want me\\nand would you forgive\\noh why\\ndid you have to go out of my life\\nnever got the chance to say goodbye\\nwhy you wanna fly yeah\\nwhy you wanna fly away\\nwhy you wanna fly yeah\\nlisten now baby baby\\nwhy why why\\ndid you fly away hey\\noh baby\\ntell me why\\ntell me why\\ndid you fly away hey\\nyeah\\nyeah\\nwhy'd ya fly\\nwhy'd ya fly\\nbaby baby.\",\n          \"Maybe September\\nI love again\\nMaybe a rainbow\\nWill catch me then\\nThis little boy lost\\nWill find his way once more\\nJust like before\\nWhen lips were tender\\n\\nThe shade of the willow\\nWhen love was born\\nA face a the pillow\\nIn early morn\\nI still see that golden world\\nIn all it's splendor\\nMaybe September\\nLove will come again\\n\\nA taller tree, a sweeter log\\nA bluer morning sky above\\nAnd maybe come September\\nI'll share these wonders\\nWith my love\\n\\nMaybe September\\nLove will come again\\n\\nA taller tree, a sweeter log\\nA bluer morning sky up above\\nYes maybe come September\\nI'll share these wonders\\nWith my love\",\n          \"It's not the first time\\nThat I've watched you\\nPassing by\\nI've tried too hard\\nTo get back there\\nBut, you never try\\nAnymore\\n\\nTried to get in with you\\nFor a second time\\nYou said the world closed down\\nBut, you caught it\\n\\nGet back inside\\n\\nSo please\\nRun away\\nSo please\\nRun away\\n\\nI tried to believe in it\\nFor a second try\\nIt's there in the safe\\nWhy don't you\\nClose the blinds\\n\\nFor the night?\\n\\nSo please\\nRun away\\nSo please\\nRun away\\n\\nSo please\\nRun away\\nSo please\\nRun away\\nRun away\\nSo please\\nRun away\\nRunaway\"\n        ],\n        \"semantic_type\": \"\",\n        \"description\": \"\"\n      }\n    },\n    {\n      \"column\": \"genre\",\n      \"properties\": {\n        \"dtype\": \"category\",\n        \"num_unique_values\": 3,\n        \"samples\": [\n          \"rock\",\n          \"jazz\",\n          \"pop\"\n        ],\n        \"semantic_type\": \"\",\n        \"description\": \"\"\n      }\n    },\n    {\n      \"column\": \"label\",\n      \"properties\": {\n        \"dtype\": \"number\",\n        \"std\": 1,\n        \"min\": 5,\n        \"max\": 9,\n        \"num_unique_values\": 3,\n        \"samples\": [\n          9,\n          5,\n          7\n        ],\n        \"semantic_type\": \"\",\n        \"description\": \"\"\n      }\n    },\n    {\n      \"column\": \"label_model\",\n      \"properties\": {\n        \"dtype\": \"category\",\n        \"num_unique_values\": 3,\n        \"samples\": [\n          \"LABEL_9\",\n          \"LABEL_5\",\n          \"LABEL_7\"\n        ],\n        \"semantic_type\": \"\",\n        \"description\": \"\"\n      }\n    },\n    {\n      \"column\": \"text_cleaned\",\n      \"properties\": {\n        \"dtype\": \"string\",\n        \"num_unique_values\": 10,\n        \"samples\": [\n          \"let you leave that day\\nlet you walk on by\\nbreaking up would pay\\nbut you had far more pride\\nif i could give\\nwould god accept me\\ntried so hard to live\\noh why\\ndid you have to go out of my life\\nnever got the chance to say goodbye\\nyou flew away\\nyou flew away\\nyou left\\nyou flew away\\nthis heart it aches\\noh babe you flew away\\nand i cry\\ni pray each night to god\\ndid you fly away\\nhey\\nwoah baby\\nwhy\\nwhy\\ndid you fly away\\nhey\\nsat along the bay\\nwatched the stars in the sky\\nseems like yesterday\\nthat you were by my side\\nif i could give\\nwould you still want me\\nand would you forgive\\noh why\\ndid you have to go out of my life\\nnever got the chance to say goodbye\\nwhy you wanna fly yeah\\nwhy you wanna fly away\\nwhy you wanna fly yeah\\nlisten now baby baby\\nwhy why why\\ndid you fly away hey\\noh baby\\ntell me why\\ntell me why\\ndid you fly away hey\\nyeah\\nyeah\\nwhy'd ya fly\\nwhy'd ya fly\\nbaby baby.\",\n          \"Maybe September\\nI love again\\nMaybe a rainbow\\nWill catch me then\\nThis little boy lost\\nWill find his way once more\\nJust like before\\nWhen lips were tender\\n\\nThe shade of the willow\\nWhen love was born\\nA face a the pillow\\nIn early morn\\nI still see that golden world\\nIn all it's splendor\\nMaybe September\\nLove will come again\\n\\nA taller tree, a sweeter log\\nA bluer morning sky above\\nAnd maybe come September\\nI'll share these wonders\\nWith my love\\n\\nMaybe September\\nLove will come again\\n\\nA taller tree, a sweeter log\\nA bluer morning sky up above\\nYes maybe come September\\nI'll share these wonders\\nWith my love\",\n          \"It's not the first time\\nThat I've watched you\\nPassing by\\nI've tried too hard\\nTo get back there\\nBut, you never try\\nAnymore\\n\\nTried to get in with you\\nFor a second time\\nYou said the world closed down\\nBut, you caught it\\n\\nGet back inside\\n\\nSo please\\nRun away\\nSo please\\nRun away\\n\\nI tried to believe in it\\nFor a second try\\nIt's there in the safe\\nWhy don't you\\nClose the blinds\\n\\nFor the night?\\n\\nSo please\\nRun away\\nSo please\\nRun away\\n\\nSo please\\nRun away\\nSo please\\nRun away\\nRun away\\nSo please\\nRun away\\nRunaway\"\n        ],\n        \"semantic_type\": \"\",\n        \"description\": \"\"\n      }\n    }\n  ]\n}"
            }
          },
          "metadata": {},
          "execution_count": 5
        }
      ]
    },
    {
      "cell_type": "code",
      "source": [
        "!pip install contractions"
      ],
      "metadata": {
        "id": "rs0ONrI247-a",
        "outputId": "18f60120-133e-46cc-bd02-8ddc992a88d2",
        "colab": {
          "base_uri": "https://localhost:8080/"
        }
      },
      "execution_count": 13,
      "outputs": [
        {
          "output_type": "stream",
          "name": "stdout",
          "text": [
            "Collecting contractions\n",
            "  Downloading contractions-0.1.73-py2.py3-none-any.whl.metadata (1.2 kB)\n",
            "Collecting textsearch>=0.0.21 (from contractions)\n",
            "  Downloading textsearch-0.0.24-py2.py3-none-any.whl.metadata (1.2 kB)\n",
            "Collecting anyascii (from textsearch>=0.0.21->contractions)\n",
            "  Downloading anyascii-0.3.2-py3-none-any.whl.metadata (1.5 kB)\n",
            "Collecting pyahocorasick (from textsearch>=0.0.21->contractions)\n",
            "  Downloading pyahocorasick-2.1.0-cp311-cp311-manylinux_2_17_x86_64.manylinux2014_x86_64.whl.metadata (13 kB)\n",
            "Downloading contractions-0.1.73-py2.py3-none-any.whl (8.7 kB)\n",
            "Downloading textsearch-0.0.24-py2.py3-none-any.whl (7.6 kB)\n",
            "Downloading anyascii-0.3.2-py3-none-any.whl (289 kB)\n",
            "\u001b[2K   \u001b[90m━━━━━━━━━━━━━━━━━━━━━━━━━━━━━━━━━━━━━━━━\u001b[0m \u001b[32m289.9/289.9 kB\u001b[0m \u001b[31m7.7 MB/s\u001b[0m eta \u001b[36m0:00:00\u001b[0m\n",
            "\u001b[?25hDownloading pyahocorasick-2.1.0-cp311-cp311-manylinux_2_17_x86_64.manylinux2014_x86_64.whl (118 kB)\n",
            "\u001b[2K   \u001b[90m━━━━━━━━━━━━━━━━━━━━━━━━━━━━━━━━━━━━━━━━\u001b[0m \u001b[32m118.3/118.3 kB\u001b[0m \u001b[31m8.9 MB/s\u001b[0m eta \u001b[36m0:00:00\u001b[0m\n",
            "\u001b[?25hInstalling collected packages: pyahocorasick, anyascii, textsearch, contractions\n",
            "Successfully installed anyascii-0.3.2 contractions-0.1.73 pyahocorasick-2.1.0 textsearch-0.0.24\n"
          ]
        }
      ]
    },
    {
      "cell_type": "code",
      "source": [
        "import string\n",
        "import nltk\n",
        "import contractions\n",
        "from nltk.tokenize import word_tokenize\n",
        "from nltk.corpus import stopwords\n",
        "from nltk.stem import WordNetLemmatizer\n",
        "\n",
        "nltk.download('punkt_tab')\n",
        "nltk.download('stopwords')\n",
        "nltk.download('wordnet')\n",
        "\n",
        "stop_words = stopwords.words('english')+list(string.punctuation)\n",
        "lemmatizer = WordNetLemmatizer()"
      ],
      "metadata": {
        "id": "qsuGweo6v3G9",
        "outputId": "e69c1ac9-eb60-4c2c-d7af-83532426ea56",
        "colab": {
          "base_uri": "https://localhost:8080/"
        }
      },
      "execution_count": 21,
      "outputs": [
        {
          "output_type": "stream",
          "name": "stderr",
          "text": [
            "[nltk_data] Downloading package punkt_tab to /root/nltk_data...\n",
            "[nltk_data]   Package punkt_tab is already up-to-date!\n",
            "[nltk_data] Downloading package stopwords to /root/nltk_data...\n",
            "[nltk_data]   Package stopwords is already up-to-date!\n",
            "[nltk_data] Downloading package wordnet to /root/nltk_data...\n",
            "[nltk_data]   Package wordnet is already up-to-date!\n"
          ]
        }
      ]
    },
    {
      "cell_type": "code",
      "execution_count": 22,
      "metadata": {
        "colab": {
          "base_uri": "https://localhost:8080/"
        },
        "id": "E-b2icwPxBd7",
        "outputId": "67f23003-6d32-42a0-b451-7e22db3c68d9"
      },
      "outputs": [
        {
          "output_type": "stream",
          "name": "stdout",
          "text": [
            "yeah man going man really really pimpin man know seen pimpin long time man mia know sayin missin action milk carton box milking boxing bitch cuz got step game know mean lookin step yo game waitin step yo game go come door step yo game drop floor step yo game kid step yo game drink gin step yo game friend step yo game tell nigga better step yo game break bitch let see back drop as low pick motherfucker back pussy tease motherfucker rub shit bitch grab dick bitch turn around bitch put as nigga grind dick make get little bigger lookin step yo game waitin step yo game go come door step yo game drop floor step yo game kid step yo game drink gin step yo game friend step yo game tell nigga better step yo game bitch want act like never fast lane pimpin nail french tip potato chip yup french dip say want french kiss diz-nick cool go break fool bitch slap stay line ho pimp affair get low take fake\n"
          ]
        }
      ],
      "source": [
        "def preprocess_text(text):\n",
        "    # Lowercasing\n",
        "    text = text.lower()\n",
        "\n",
        "    # expand contractions\n",
        "    text = contractions.fix(text)\n",
        "\n",
        "    # Tokenization\n",
        "    tokens = word_tokenize(text)\n",
        "\n",
        "    # Removing stop words\n",
        "    tokens = [word for word in tokens if word not in stop_words]\n",
        "\n",
        "    # Lemmatization\n",
        "    tokens = [lemmatizer.lemmatize(word) for word in tokens]\n",
        "\n",
        "    return \" \".join(tokens)\n",
        "\n",
        "sample_text = \"Yeah man what's going on man it's really really pimpin' up in here man I know you ain't seen pimpin' in a long time man I've been mia You know what I'm sayin' missin in action I ain't been on no milk carton box But I've been milking and boxing these bitches Cuz they got to step they game up you know what I mean What you lookin' at (step yo game up!) What you waitin' for (step yo game up!) Go on come on in the door (step yo game up!) Drop it to the floor and just (step yo game up!) You a kid (step yo game up!) You drink gin (step yo game up!) Is that your friend (step yo game up!) Tell a nigga you with you better (step yo game up!) Break it down bitch, let me see you back it up Drop that ass down low then pick that motherfucker up Back that pussy tease a motherfucker Rub that shit it's yours bitch, grab his dick it's yours bitch Now turn around bitch, put that ass on a nigga, grind on his dick make it get a little bigger What you lookin' at (step yo game up!) What you waitin' for (step yo game up!) Go on come on in the door (step yo game up!) Drop it to the floor and just (step yo game up!) You a kid (step yo game up!) You drink gin (step yo game up!) Is that your friend (step yo game up!) Tell a nigga you with you better (step yo game up!) Bitch wanna act like she ain't never been with fast lane pimpin' on em Nails with the french tip potato chip yup with a french dip say she wanna french kiss all on my diz-nick It's cool, go on and break fool if you have to, what which you won't do, bitch I'ma slap you Stay in line ho it's a pimp affair, if you down to get low I can take you there But you can't fake once\"\n",
        "processed_text = preprocess_text(sample_text)\n",
        "print(processed_text)"
      ]
    }
  ],
  "metadata": {
    "colab": {
      "provenance": [],
      "authorship_tag": "ABX9TyP1vS7u5jwKdufeQA8jsh4n",
      "include_colab_link": true
    },
    "kernelspec": {
      "display_name": "Python 3",
      "name": "python3"
    },
    "language_info": {
      "name": "python"
    }
  },
  "nbformat": 4,
  "nbformat_minor": 0
}